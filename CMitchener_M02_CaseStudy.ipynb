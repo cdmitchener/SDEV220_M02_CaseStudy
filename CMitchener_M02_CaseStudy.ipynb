{
 "cells": [
  {
   "cell_type": "code",
   "execution_count": 5,
   "id": "f7c5cb0c",
   "metadata": {},
   "outputs": [
    {
     "name": "stdout",
     "output_type": "stream",
     "text": [
      "Enter student's last name: Doe\n",
      "Enter student's first name: John\n",
      "Enter student's GPA: 3.5\n",
      "John Doe has made the Honor Roll.\n",
      "John Doe has made the Dean's List.\n",
      "Enter student's last name: Doe\n",
      "Enter student's first name: John\n",
      "Enter student's GPA: 3.25\n",
      "John Doe has made the Honor Roll.\n",
      "Enter student's last name: Doe\n",
      "Enter student's first name: John\n",
      "Enter student's GPA: 3.51\n",
      "John Doe has made the Honor Roll.\n",
      "John Doe has made the Dean's List.\n",
      "Enter student's last name: Doe\n",
      "Enter student's first name: John\n",
      "Enter student's GPA: 3.24\n",
      "John Doe did not make the Honor Roll.\n",
      "Enter student's last name: ZZZ\n"
     ]
    }
   ],
   "source": [
    "# Chelsea Mitchener\n",
    "# Dean's List and/or Honor Roll Checker\n",
    "# ---------------------------------\n",
    "# Enter a student's last name, first name, and GPA as a float.\n",
    "# If the student's GPA is 3.5 or greater and, if so, print a message saying that the student has made the Dean's List.\n",
    "# If the student's GPA is 3.25 or greater and, if so, print a message saying that the studnet has made the Honor Roll.\n",
    "# When finished please enter \"ZZZ\" as the student's last name.\n",
    "    \n",
    "last_name = \"\"\n",
    "\n",
    "while last_name != \"ZZZ\":\n",
    "    last_name = input(\"Enter student's last name: \")\n",
    "\n",
    "    if last_name != \"ZZZ\":\n",
    "        first_name = input(\"Enter student's first name: \")\n",
    "        gpa = float(input(\"Enter student's GPA: \"))\n",
    "        \n",
    "        if gpa >= 3.25:\n",
    "            print(f\"{first_name} {last_name} has made the Honor Roll.\")\n",
    "            \n",
    "            if gpa >= 3.5:\n",
    "                print(f\"{first_name} {last_name} has made the Dean's List.\")\n",
    "            \n",
    "        else:\n",
    "            print(f\"{first_name} {last_name} did not make the Honor Roll.\")\n",
    "    else:\n",
    "        quit()"
   ]
  },
  {
   "cell_type": "code",
   "execution_count": null,
   "id": "fff3b67e",
   "metadata": {},
   "outputs": [],
   "source": []
  }
 ],
 "metadata": {
  "kernelspec": {
   "display_name": "Python 3 (ipykernel)",
   "language": "python",
   "name": "python3"
  },
  "language_info": {
   "codemirror_mode": {
    "name": "ipython",
    "version": 3
   },
   "file_extension": ".py",
   "mimetype": "text/x-python",
   "name": "python",
   "nbconvert_exporter": "python",
   "pygments_lexer": "ipython3",
   "version": "3.9.12"
  }
 },
 "nbformat": 4,
 "nbformat_minor": 5
}
